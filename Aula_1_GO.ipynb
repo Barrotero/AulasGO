{
  "nbformat": 4,
  "nbformat_minor": 0,
  "metadata": {
    "colab": {
      "provenance": [],
      "authorship_tag": "ABX9TyMhlvtSxMD/kVkd9DWVfbfp",
      "include_colab_link": true
    },
    "kernelspec": {
      "name": "python3",
      "display_name": "Python 3"
    },
    "language_info": {
      "name": "python"
    }
  },
  "cells": [
    {
      "cell_type": "markdown",
      "metadata": {
        "id": "view-in-github",
        "colab_type": "text"
      },
      "source": [
        "<a href=\"https://colab.research.google.com/github/Barrotero/AulasGO/blob/main/Aula_1_GO.ipynb\" target=\"_parent\"><img src=\"https://colab.research.google.com/assets/colab-badge.svg\" alt=\"Open In Colab\"/></a>"
      ]
    },
    {
      "cell_type": "code",
      "source": [
        "!apt install golang"
      ],
      "metadata": {
        "colab": {
          "base_uri": "https://localhost:8080/"
        },
        "id": "ER2RyWwZqsp8",
        "outputId": "9d56c928-2446-4c25-b45c-f20bc30b0be3"
      },
      "execution_count": 2,
      "outputs": [
        {
          "output_type": "stream",
          "name": "stdout",
          "text": [
            "Reading package lists... Done\n",
            "Building dependency tree       \n",
            "Reading state information... Done\n",
            "The following additional packages will be installed:\n",
            "  golang-1.13 golang-1.13-doc golang-1.13-go golang-1.13-race-detector-runtime\n",
            "  golang-1.13-src golang-doc golang-go golang-race-detector-runtime golang-src\n",
            "Suggested packages:\n",
            "  bzr | brz mercurial subversion\n",
            "The following NEW packages will be installed:\n",
            "  golang golang-1.13 golang-1.13-doc golang-1.13-go\n",
            "  golang-1.13-race-detector-runtime golang-1.13-src golang-doc golang-go\n",
            "  golang-race-detector-runtime golang-src\n",
            "0 upgraded, 10 newly installed, 0 to remove and 22 not upgraded.\n",
            "Need to get 63.5 MB of archives.\n",
            "After this operation, 329 MB of additional disk space will be used.\n",
            "Get:1 http://archive.ubuntu.com/ubuntu focal-updates/main amd64 golang-1.13-src amd64 1.13.8-1ubuntu1.1 [12.6 MB]\n",
            "Get:2 http://archive.ubuntu.com/ubuntu focal-updates/main amd64 golang-1.13-go amd64 1.13.8-1ubuntu1.1 [47.6 MB]\n",
            "Get:3 http://archive.ubuntu.com/ubuntu focal-updates/main amd64 golang-1.13-doc all 1.13.8-1ubuntu1.1 [2,525 kB]\n",
            "Get:4 http://archive.ubuntu.com/ubuntu focal-updates/main amd64 golang-1.13 all 1.13.8-1ubuntu1.1 [11.3 kB]\n",
            "Get:5 http://archive.ubuntu.com/ubuntu focal/main amd64 golang-src amd64 2:1.13~1ubuntu2 [4,044 B]\n",
            "Get:6 http://archive.ubuntu.com/ubuntu focal/main amd64 golang-go amd64 2:1.13~1ubuntu2 [22.0 kB]\n",
            "Get:7 http://archive.ubuntu.com/ubuntu focal/main amd64 golang-doc all 2:1.13~1ubuntu2 [2,948 B]\n",
            "Get:8 http://archive.ubuntu.com/ubuntu focal/main amd64 golang amd64 2:1.13~1ubuntu2 [2,900 B]\n",
            "Get:9 http://archive.ubuntu.com/ubuntu focal/main amd64 golang-1.13-race-detector-runtime amd64 0.0+svn332029-0ubuntu2 [713 kB]\n",
            "Get:10 http://archive.ubuntu.com/ubuntu focal/main amd64 golang-race-detector-runtime amd64 2:1.13~1ubuntu2 [3,836 B]\n",
            "Fetched 63.5 MB in 1s (53.7 MB/s)\n",
            "Selecting previously unselected package golang-1.13-src.\n",
            "(Reading database ... 128276 files and directories currently installed.)\n",
            "Preparing to unpack .../0-golang-1.13-src_1.13.8-1ubuntu1.1_amd64.deb ...\n",
            "Unpacking golang-1.13-src (1.13.8-1ubuntu1.1) ...\n",
            "Selecting previously unselected package golang-1.13-go.\n",
            "Preparing to unpack .../1-golang-1.13-go_1.13.8-1ubuntu1.1_amd64.deb ...\n",
            "Unpacking golang-1.13-go (1.13.8-1ubuntu1.1) ...\n",
            "Selecting previously unselected package golang-1.13-doc.\n",
            "Preparing to unpack .../2-golang-1.13-doc_1.13.8-1ubuntu1.1_all.deb ...\n",
            "Unpacking golang-1.13-doc (1.13.8-1ubuntu1.1) ...\n",
            "Selecting previously unselected package golang-1.13.\n",
            "Preparing to unpack .../3-golang-1.13_1.13.8-1ubuntu1.1_all.deb ...\n",
            "Unpacking golang-1.13 (1.13.8-1ubuntu1.1) ...\n",
            "Selecting previously unselected package golang-src.\n",
            "Preparing to unpack .../4-golang-src_2%3a1.13~1ubuntu2_amd64.deb ...\n",
            "Unpacking golang-src (2:1.13~1ubuntu2) ...\n",
            "Selecting previously unselected package golang-go.\n",
            "Preparing to unpack .../5-golang-go_2%3a1.13~1ubuntu2_amd64.deb ...\n",
            "Unpacking golang-go (2:1.13~1ubuntu2) ...\n",
            "Selecting previously unselected package golang-doc.\n",
            "Preparing to unpack .../6-golang-doc_2%3a1.13~1ubuntu2_all.deb ...\n",
            "Unpacking golang-doc (2:1.13~1ubuntu2) ...\n",
            "Selecting previously unselected package golang.\n",
            "Preparing to unpack .../7-golang_2%3a1.13~1ubuntu2_amd64.deb ...\n",
            "Unpacking golang (2:1.13~1ubuntu2) ...\n",
            "Selecting previously unselected package golang-1.13-race-detector-runtime.\n",
            "Preparing to unpack .../8-golang-1.13-race-detector-runtime_0.0+svn332029-0ubuntu2_amd64.deb ...\n",
            "Unpacking golang-1.13-race-detector-runtime (0.0+svn332029-0ubuntu2) ...\n",
            "Selecting previously unselected package golang-race-detector-runtime.\n",
            "Preparing to unpack .../9-golang-race-detector-runtime_2%3a1.13~1ubuntu2_amd64.deb ...\n",
            "Unpacking golang-race-detector-runtime (2:1.13~1ubuntu2) ...\n",
            "Setting up golang-1.13-src (1.13.8-1ubuntu1.1) ...\n",
            "Setting up golang-1.13-race-detector-runtime (0.0+svn332029-0ubuntu2) ...\n",
            "Setting up golang-1.13-go (1.13.8-1ubuntu1.1) ...\n",
            "Setting up golang-src (2:1.13~1ubuntu2) ...\n",
            "Setting up golang-race-detector-runtime (2:1.13~1ubuntu2) ...\n",
            "Setting up golang-go (2:1.13~1ubuntu2) ...\n",
            "Setting up golang-1.13-doc (1.13.8-1ubuntu1.1) ...\n",
            "Setting up golang-1.13 (1.13.8-1ubuntu1.1) ...\n",
            "Setting up golang-doc (2:1.13~1ubuntu2) ...\n",
            "Setting up golang (2:1.13~1ubuntu2) ...\n",
            "Processing triggers for man-db (2.9.1-1) ...\n"
          ]
        }
      ]
    },
    {
      "cell_type": "code",
      "source": [
        "!go version"
      ],
      "metadata": {
        "colab": {
          "base_uri": "https://localhost:8080/"
        },
        "id": "stbTh9eRq9mN",
        "outputId": "1bbffea5-b073-46a3-d2be-7ff9f7a860c1"
      },
      "execution_count": 3,
      "outputs": [
        {
          "output_type": "stream",
          "name": "stdout",
          "text": [
            "go version go1.13.8 linux/amd64\n"
          ]
        }
      ]
    },
    {
      "cell_type": "code",
      "source": [
        "%%writefile main.go\n",
        "package main\n",
        "\n",
        "import \"fmt\"\n",
        "\n",
        "func main(){\n",
        "    fmt.Printf(\"Meu primeiro GO code no colab\")\n",
        "}"
      ],
      "metadata": {
        "colab": {
          "base_uri": "https://localhost:8080/"
        },
        "id": "JegnWIzNrmpS",
        "outputId": "aeeabc8f-258e-4f8b-aedc-5421f728eaf0"
      },
      "execution_count": 10,
      "outputs": [
        {
          "output_type": "stream",
          "name": "stdout",
          "text": [
            "Overwriting main.go\n"
          ]
        }
      ]
    },
    {
      "cell_type": "code",
      "source": [
        "!go run main.go"
      ],
      "metadata": {
        "colab": {
          "base_uri": "https://localhost:8080/"
        },
        "id": "wVoyFs3msMnr",
        "outputId": "b4d60304-d0b5-4014-818e-52fa9beff9de"
      },
      "execution_count": 8,
      "outputs": [
        {
          "output_type": "stream",
          "name": "stdout",
          "text": [
            "Meu primeiro GO code no colab"
          ]
        }
      ]
    },
    {
      "cell_type": "code",
      "source": [
        "%%writefile matematica.go\n",
        "package main\n",
        "import(\n",
        "    \"fmt\"\n",
        "    \"math\"\n",
        ")\n",
        "\n",
        "func main(){\n",
        "  fmt.Println(math.Pi)\n",
        "}"
      ],
      "metadata": {
        "colab": {
          "base_uri": "https://localhost:8080/"
        },
        "id": "sGjZhDlnsrGR",
        "outputId": "2990473d-7da7-40ef-bda5-3aa21ba4de8c"
      },
      "execution_count": 19,
      "outputs": [
        {
          "output_type": "stream",
          "name": "stdout",
          "text": [
            "Overwriting matematica.go\n"
          ]
        }
      ]
    },
    {
      "cell_type": "code",
      "source": [
        "!go run matematica.go"
      ],
      "metadata": {
        "colab": {
          "base_uri": "https://localhost:8080/"
        },
        "id": "TbUTug2FtasI",
        "outputId": "73861530-62a0-45f6-82b8-8d59773afe07"
      },
      "execution_count": 20,
      "outputs": [
        {
          "output_type": "stream",
          "name": "stdout",
          "text": [
            "3.141592653589793\n"
          ]
        }
      ]
    }
  ]
}